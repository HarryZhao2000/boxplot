{
 "cells": [
  {
   "cell_type": "markdown",
   "metadata": {},
   "source": [
    "# Test"
   ]
  },
  {
   "cell_type": "code",
   "execution_count": 1,
   "metadata": {},
   "outputs": [],
   "source": [
    "%matplotlib inline\n",
    "import matplotlib.pyplot as plt\n",
    "from boxplot import boxplot as bx\n",
    "import numpy as np\n"
   ]
  },
  {
   "cell_type": "markdown",
   "metadata": {},
   "source": [
    "## Quality of data"
   ]
  },
  {
   "cell_type": "code",
   "execution_count": 2,
   "metadata": {},
   "outputs": [
    {
     "name": "stdout",
     "output_type": "stream",
     "text": [
      "[array([81, 70, 13, 15, 40, 90, 57, 85, 41, 92, 16, 77, 29, 47, 92, 74, 29,\n",
      "       98, 78, 75, 28, 90, 24, 15, 60, 91, 23, 73, 21, 75, 63, 59, 25, 26,\n",
      "       94, 51, 85,  5, 78, 92, 42, 12, 26, 59, 31, 44, 59,  8, 36,  0, 45,\n",
      "       26, 80, 91, 95, 87, 68, 54, 34, 16, 78, 13, 28, 72, 29, 63, 68, 83,\n",
      "       88,  0, 70, 39, 85, 20, 10, 51, 62, 79, 20, 21, 60, 40, 40, 38, 79,\n",
      "       43, 54,  8, 29, 56, 97, 48, 72,  0, 91, 67, 47, 68, 10, 54, 48, 13,\n",
      "       49, 29,  7, 16, 11, 40, 64,  6, 86, 76, 15,  1, 58,  4, 35, 64, 52,\n",
      "       84,  2, 24, 36, 36, 47, 88, 22, 72, 30, 87,  9, 37, 10, 13, 39, 53,\n",
      "       20,  0, 33, 47, 83, 33, 95, 71, 98, 34, 27, 83,  1, 16, 35, 75, 19,\n",
      "       33, 65, 41, 99, 62,  2, 51, 53, 71, 11, 41, 58, 82, 95, 20, -1, 71,\n",
      "       91,  8, 54, 82, 37, 22, 76, 64, 87, 85,  5, 18, 84, 50, 69,  6,  0,\n",
      "       15,  1, 74, 58, 55, 73,  6,  5, 79, 50, 47, 81, 49, 21, 26, 84, 60,\n",
      "       27, 35,  6, 48, 84, 60, 26, 53, 43, 19, 66, 91, 45, 50,  0, 16, 31,\n",
      "       -1, 72, 70, 25, 14, 85,  5, 79, 44, 41,  7,  7, 98, 67,  3, 18, 12,\n",
      "       62, 61,  2, 51,  0, 90, 95, 93, 56, 99, 72, 58, 65, 70, 63, 35, 35,\n",
      "       16, 67, 42, 83, 62, 41, 96,  9, 95, 95, 26, 47, 87,  3, 17, 53, 41,\n",
      "       89, 88, 56,  1, 56, 92, 23, 80, 18, 58, 48, 91, 21, 84, 27, 47, 83,\n",
      "       35, 28, 37,  3,  3, 34, 77, 96, 12, 53,  0,  9, 45, 19, 63, 18, 98,\n",
      "       38, 40, 45, 39, 71, 37, 32, 17, 44, 33, 54, 11, 12, 53, 86, 32, 26,\n",
      "       34,  6, 40, 32, 90, 54, 77, 28, 42, 15, 43, 60, 15, 78, 10, 72, 27,\n",
      "       90, 63, 44, 10, 69, 93, 46, 77, 33,  6, 54, 74, 71, 96, 36, 86, 97,\n",
      "       67, 41,  8, 34, 12, 33, 26, 26, 58, 37, 89, 62, 99, 64, 87, 25,  0,\n",
      "       36, 54, 65,  4, 10, 54, 15, 94, 54, 73, 68,  2, 33, 94, 99,  7, 80,\n",
      "       98, 70, 94, 22, 57, 64, 54, 97, 23, 89, 96, 59, 57, 58, 65, 58, 56,\n",
      "        3, 69, 79, 75, 18,  0, 73, 32, 36, 86, 37, 70, 43,  3, 98, 73, 15,\n",
      "       52, 87,  7, 50, 43, 45, 37, 37, 95, 37, 91, 24, 51,  3, 21,  0, 69,\n",
      "       49, 20, 98, 78, 15, 43, 50, 48, 59, 32, 98, 66, 45, 44, 89, 36, 67,\n",
      "        7, 48, 94, 54, 14, 54,  4,  8, 29, 47, 70, 65, 55, 40, 48, 44, 48,\n",
      "       92, 66, 82, 71,  2, 76, 52, 72, 58, 55, 57, 63, 55, 89, 72, 57, 42,\n",
      "       75, 82, 44, 75, 66, 69, 10])]\n"
     ]
    }
   ],
   "source": [
    "# Integers\n",
    "Integers = [np.random.randint(-1, 100, 500, dtype='l')]\n",
    "Float = np.random.random([2,500]).tolist()\n",
    "\n",
    "print(Integers)"
   ]
  },
  {
   "cell_type": "code",
   "execution_count": 3,
   "metadata": {
    "scrolled": true
   },
   "outputs": [
    {
     "name": "stdout",
     "output_type": "stream",
     "text": [
      "[54.9]\n"
     ]
    },
    {
     "data": {
      "image/png": "[encoded data removed]",
      "text/plain": [
       "<Figure size 720x720 with 1 Axes>"
      ]
     },
     "metadata": {
      "needs_background": "light"
     },
     "output_type": "display_data"
    }
   ],
   "source": [
    "fig,ax = plt.subplots(figsize=(10,10))\n",
    "bx.hist_boxplot(ax,Integers)"
   ]
  },
  {
   "cell_type": "markdown",
   "metadata": {},
   "source": [
    "## Robustness"
   ]
  },
  {
   "cell_type": "code",
   "execution_count": 17,
   "metadata": {},
   "outputs": [],
   "source": [
    "import pandas as pd\n",
    "data = pd.read_csv('/Users/hurryzhao/boxplot/results_merged.csv')\n"
   ]
  },
  {
   "cell_type": "code",
   "execution_count": 20,
   "metadata": {},
   "outputs": [
    {
     "data": {
      "text/html": [
       "<div>\n",
       "<style scoped>\n",
       "    .dataframe tbody tr th:only-of-type {\n",
       "        vertical-align: middle;\n",
       "    }\n",
       "\n",
       "    .dataframe tbody tr th {\n",
       "        vertical-align: top;\n",
       "    }\n",
       "\n",
       "    .dataframe thead th {\n",
       "        text-align: right;\n",
       "    }\n",
       "</style>\n",
       "<table border=\"1\" class=\"dataframe\">\n",
       "  <thead>\n",
       "    <tr style=\"text-align: right;\">\n",
       "      <th></th>\n",
       "      <th>Unnamed: 0</th>\n",
       "      <th>last_updated</th>\n",
       "      <th>github_link</th>\n",
       "      <th>user</th>\n",
       "      <th>project_name</th>\n",
       "      <th>app_id</th>\n",
       "      <th>category</th>\n",
       "      <th>stars</th>\n",
       "      <th>contributors</th>\n",
       "      <th>commits</th>\n",
       "      <th>...</th>\n",
       "      <th>ci/cd</th>\n",
       "      <th>age</th>\n",
       "      <th>age_numeric</th>\n",
       "      <th>time_since_last_update</th>\n",
       "      <th>time_since_last_update_numeric</th>\n",
       "      <th>sonar_issues_ratio</th>\n",
       "      <th>sonar_blocker_issues_ratio</th>\n",
       "      <th>sonar_critical_issues_ratio</th>\n",
       "      <th>sonar_major_issues_ratio</th>\n",
       "      <th>sonar_minor_issues_ratio</th>\n",
       "    </tr>\n",
       "  </thead>\n",
       "  <tbody>\n",
       "    <tr>\n",
       "      <th>0</th>\n",
       "      <td>0</td>\n",
       "      <td>2017-08-28</td>\n",
       "      <td>https://github.com/yeriomin/YalpStore</td>\n",
       "      <td>yeriomin</td>\n",
       "      <td>YalpStore</td>\n",
       "      <td>com.github.yeriomin.yalpstore</td>\n",
       "      <td>System</td>\n",
       "      <td>354</td>\n",
       "      <td>9</td>\n",
       "      <td>796</td>\n",
       "      <td>...</td>\n",
       "      <td>True</td>\n",
       "      <td>293 days 12:00:00.000000000</td>\n",
       "      <td>0</td>\n",
       "      <td>33 days 12:00:00.000000000</td>\n",
       "      <td>0</td>\n",
       "      <td>1.406685</td>\n",
       "      <td>0.019499</td>\n",
       "      <td>0.100279</td>\n",
       "      <td>0.428969</td>\n",
       "      <td>0.857939</td>\n",
       "    </tr>\n",
       "    <tr>\n",
       "      <th>1</th>\n",
       "      <td>1</td>\n",
       "      <td>2017-08-28</td>\n",
       "      <td>https://github.com/subchannel13/EnchantedFortress</td>\n",
       "      <td>subchannel13</td>\n",
       "      <td>EnchantedFortress</td>\n",
       "      <td>hr.kravarscan.enchantedfortress</td>\n",
       "      <td>Games</td>\n",
       "      <td>12</td>\n",
       "      <td>2</td>\n",
       "      <td>73</td>\n",
       "      <td>...</td>\n",
       "      <td>False</td>\n",
       "      <td>132 days 12:00:00.000000000</td>\n",
       "      <td>0</td>\n",
       "      <td>33 days 12:00:00.000000000</td>\n",
       "      <td>0</td>\n",
       "      <td>1.384615</td>\n",
       "      <td>0.000000</td>\n",
       "      <td>0.673077</td>\n",
       "      <td>0.211538</td>\n",
       "      <td>0.500000</td>\n",
       "    </tr>\n",
       "    <tr>\n",
       "      <th>2</th>\n",
       "      <td>2</td>\n",
       "      <td>2017-08-28</td>\n",
       "      <td>https://github.com/rdoeffinger/Dictionary</td>\n",
       "      <td>rdoeffinger</td>\n",
       "      <td>Dictionary</td>\n",
       "      <td>de.reimardoeffinger.quickdic</td>\n",
       "      <td>Reading</td>\n",
       "      <td>54</td>\n",
       "      <td>11</td>\n",
       "      <td>572</td>\n",
       "      <td>...</td>\n",
       "      <td>False</td>\n",
       "      <td>773 days 12:00:00.000000000</td>\n",
       "      <td>2</td>\n",
       "      <td>33 days 12:00:00.000000000</td>\n",
       "      <td>0</td>\n",
       "      <td>1.085106</td>\n",
       "      <td>0.016548</td>\n",
       "      <td>0.111111</td>\n",
       "      <td>0.498818</td>\n",
       "      <td>0.458629</td>\n",
       "    </tr>\n",
       "    <tr>\n",
       "      <th>3</th>\n",
       "      <td>3</td>\n",
       "      <td>2017-08-28</td>\n",
       "      <td>https://github.com/meefik/busybox</td>\n",
       "      <td>meefik</td>\n",
       "      <td>busybox</td>\n",
       "      <td>ru.meefik.busybox</td>\n",
       "      <td>System</td>\n",
       "      <td>146</td>\n",
       "      <td>7</td>\n",
       "      <td>86</td>\n",
       "      <td>...</td>\n",
       "      <td>False</td>\n",
       "      <td>727 days 12:00:00.000000000</td>\n",
       "      <td>1</td>\n",
       "      <td>33 days 12:00:00.000000000</td>\n",
       "      <td>0</td>\n",
       "      <td>0.520930</td>\n",
       "      <td>0.013953</td>\n",
       "      <td>0.102326</td>\n",
       "      <td>0.241860</td>\n",
       "      <td>0.162791</td>\n",
       "    </tr>\n",
       "    <tr>\n",
       "      <th>4</th>\n",
       "      <td>4</td>\n",
       "      <td>2017-08-28</td>\n",
       "      <td>https://github.com/hwki/SimpleBitcoinWidget</td>\n",
       "      <td>hwki</td>\n",
       "      <td>SimpleBitcoinWidget</td>\n",
       "      <td>com.brentpanther.litecoinwidget</td>\n",
       "      <td>Money</td>\n",
       "      <td>28</td>\n",
       "      <td>5</td>\n",
       "      <td>81</td>\n",
       "      <td>...</td>\n",
       "      <td>False</td>\n",
       "      <td>1651 days 12:00:00.000000000</td>\n",
       "      <td>4</td>\n",
       "      <td>33 days 12:00:00.000000000</td>\n",
       "      <td>0</td>\n",
       "      <td>0.726190</td>\n",
       "      <td>0.000000</td>\n",
       "      <td>0.083333</td>\n",
       "      <td>0.500000</td>\n",
       "      <td>0.142857</td>\n",
       "    </tr>\n",
       "  </tbody>\n",
       "</table>\n",
       "<p>5 rows × 62 columns</p>\n",
       "</div>"
      ],
      "text/plain": [
       "   Unnamed: 0 last_updated                                        github_link  \\\n",
       "0           0   2017-08-28              https://github.com/yeriomin/YalpStore   \n",
       "1           1   2017-08-28  https://github.com/subchannel13/EnchantedFortress   \n",
       "2           2   2017-08-28          https://github.com/rdoeffinger/Dictionary   \n",
       "3           3   2017-08-28                  https://github.com/meefik/busybox   \n",
       "4           4   2017-08-28        https://github.com/hwki/SimpleBitcoinWidget   \n",
       "\n",
       "           user         project_name                           app_id  \\\n",
       "0      yeriomin            YalpStore    com.github.yeriomin.yalpstore   \n",
       "1  subchannel13    EnchantedFortress  hr.kravarscan.enchantedfortress   \n",
       "2   rdoeffinger           Dictionary     de.reimardoeffinger.quickdic   \n",
       "3        meefik              busybox                ru.meefik.busybox   \n",
       "4          hwki  SimpleBitcoinWidget  com.brentpanther.litecoinwidget   \n",
       "\n",
       "  category  stars  contributors  commits  ...  ci/cd  \\\n",
       "0   System    354             9      796  ...   True   \n",
       "1    Games     12             2       73  ...  False   \n",
       "2  Reading     54            11      572  ...  False   \n",
       "3   System    146             7       86  ...  False   \n",
       "4    Money     28             5       81  ...  False   \n",
       "\n",
       "                            age  age_numeric      time_since_last_update  \\\n",
       "0   293 days 12:00:00.000000000            0  33 days 12:00:00.000000000   \n",
       "1   132 days 12:00:00.000000000            0  33 days 12:00:00.000000000   \n",
       "2   773 days 12:00:00.000000000            2  33 days 12:00:00.000000000   \n",
       "3   727 days 12:00:00.000000000            1  33 days 12:00:00.000000000   \n",
       "4  1651 days 12:00:00.000000000            4  33 days 12:00:00.000000000   \n",
       "\n",
       "   time_since_last_update_numeric  sonar_issues_ratio  \\\n",
       "0                               0            1.406685   \n",
       "1                               0            1.384615   \n",
       "2                               0            1.085106   \n",
       "3                               0            0.520930   \n",
       "4                               0            0.726190   \n",
       "\n",
       "   sonar_blocker_issues_ratio  sonar_critical_issues_ratio  \\\n",
       "0                    0.019499                     0.100279   \n",
       "1                    0.000000                     0.673077   \n",
       "2                    0.016548                     0.111111   \n",
       "3                    0.013953                     0.102326   \n",
       "4                    0.000000                     0.083333   \n",
       "\n",
       "   sonar_major_issues_ratio  sonar_minor_issues_ratio  \n",
       "0                  0.428969                  0.857939  \n",
       "1                  0.211538                  0.500000  \n",
       "2                  0.498818                  0.458629  \n",
       "3                  0.241860                  0.162791  \n",
       "4                  0.500000                  0.142857  \n",
       "\n",
       "[5 rows x 62 columns]"
      ]
     },
     "execution_count": 20,
     "metadata": {},
     "output_type": "execute_result"
    }
   ],
   "source": [
    "data.head()"
   ]
  },
  {
   "cell_type": "code",
   "execution_count": 31,
   "metadata": {},
   "outputs": [
    {
     "data": {
      "text/plain": [
       "[0      796\n",
       " 1       73\n",
       " 2      572\n",
       " 3       86\n",
       " 4       81\n",
       " 5       81\n",
       " 6       81\n",
       " 7       81\n",
       " 8      135\n",
       " 9       82\n",
       " 10    3270\n",
       " Name: commits, dtype: int64, 11     126\n",
       " 12      50\n",
       " 13    1706\n",
       " 14    1706\n",
       " Name: commits, dtype: int64, 15    4311\n",
       " 16     138\n",
       " 17     716\n",
       " 18      66\n",
       " 19      28\n",
       " 20     208\n",
       " 21    1099\n",
       " Name: commits, dtype: int64, 32     383\n",
       " 33     729\n",
       " 34     143\n",
       " 35      55\n",
       " 36     472\n",
       " 37     279\n",
       " 38      46\n",
       " 39      73\n",
       " 40     399\n",
       " 41     167\n",
       " 42     532\n",
       " 43      16\n",
       " 44    2157\n",
       " 45     117\n",
       " 46     392\n",
       " 47     416\n",
       " 48     944\n",
       " 49     205\n",
       " 50     338\n",
       " 51      11\n",
       " 52      72\n",
       " 53     420\n",
       " 54    2018\n",
       " 55     188\n",
       " 56      52\n",
       " 57    2406\n",
       " Name: commits, dtype: int64, 58      76\n",
       " 59    1308\n",
       " 60     992\n",
       " 61     993\n",
       " 62     762\n",
       " 63     721\n",
       " 64     186\n",
       " 65    2669\n",
       " 66     261\n",
       " Name: commits, dtype: int64]"
      ]
     },
     "execution_count": 31,
     "metadata": {},
     "output_type": "execute_result"
    }
   ],
   "source": [
    "t_d1 = data.commits[data.last_updated=='2017-08-28']\n",
    "t_d2 = data.commits[data.last_updated=='2017-08-26']\n",
    "t_d3 = data.commits[data.last_updated=='2017-08-24']\n",
    "t_d4 = data.commits[data.last_updated=='2017-08-22']\n",
    "t_d5 = data.commits[data.last_updated=='2017-08-20']\n",
    "\n",
    "t_d=[t_d1,t_d2,t_d3,t_d4,t_d5]\n",
    "t_d"
   ]
  },
  {
   "cell_type": "code",
   "execution_count": 32,
   "metadata": {},
   "outputs": [
    {
     "name": "stdout",
     "output_type": "stream",
     "text": [
      "[333.3333333319238, 666.6666666680761, 999.9999999999999, 1333.3333333319238, 1666.6666666680758]\n"
     ]
    },
    {
     "data": {
      "image/png": "[encoded data removed]",
      "text/plain": [
       "<Figure size 720x720 with 1 Axes>"
      ]
     },
     "metadata": {
      "needs_background": "light"
     },
     "output_type": "display_data"
    }
   ],
   "source": [
    "fig,ax = plt.subplots(figsize=(10,10))\n",
    "bx.creative_boxplot(ax,t_d,outlier_facecolor='white',outlier_edgecolor='r',outlier=False)"
   ]
  },
  {
   "cell_type": "code",
   "execution_count": null,
   "metadata": {},
   "outputs": [],
   "source": []
  }
 ],
 "metadata": {
  "kernelspec": {
   "display_name": "Python 3",
   "language": "python",
   "name": "python3"
  },
  "language_info": {
   "codemirror_mode": {
    "name": "ipython",
    "version": 3
   },
   "file_extension": ".py",
   "mimetype": "text/x-python",
   "name": "python",
   "nbconvert_exporter": "python",
   "pygments_lexer": "ipython3",
   "version": "3.7.3"
  }
 },
 "nbformat": 4,
 "nbformat_minor": 2
}
