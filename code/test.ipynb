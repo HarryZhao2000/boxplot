{
 "cells": [
  {
   "cell_type": "markdown",
   "metadata": {},
   "source": [
    "# Test"
   ]
  },
  {
   "cell_type": "code",
   "execution_count": 1,
   "metadata": {},
   "outputs": [],
   "source": [
    "%matplotlib inline\n",
    "import matplotlib.pyplot as plt\n",
    "from boxplot import boxplot as bx\n",
    "import numpy as np\n"
   ]
  },
  {
   "cell_type": "markdown",
   "metadata": {},
   "source": [
    "## Quality of data"
   ]
  },
  {
   "cell_type": "code",
   "execution_count": 2,
   "metadata": {},
   "outputs": [
    {
     "name": "stdout",
     "output_type": "stream",
     "text": [
      "[array([81, 70, 13, 15, 40, 90, 57, 85, 41, 92, 16, 77, 29, 47, 92, 74, 29,\n",
      "       98, 78, 75, 28, 90, 24, 15, 60, 91, 23, 73, 21, 75, 63, 59, 25, 26,\n",
      "       94, 51, 85,  5, 78, 92, 42, 12, 26, 59, 31, 44, 59,  8, 36,  0, 45,\n",
      "       26, 80, 91, 95, 87, 68, 54, 34, 16, 78, 13, 28, 72, 29, 63, 68, 83,\n",
      "       88,  0, 70, 39, 85, 20, 10, 51, 62, 79, 20, 21, 60, 40, 40, 38, 79,\n",
      "       43, 54,  8, 29, 56, 97, 48, 72,  0, 91, 67, 47, 68, 10, 54, 48, 13,\n",
      "       49, 29,  7, 16, 11, 40, 64,  6, 86, 76, 15,  1, 58,  4, 35, 64, 52,\n",
      "       84,  2, 24, 36, 36, 47, 88, 22, 72, 30, 87,  9, 37, 10, 13, 39, 53,\n",
      "       20,  0, 33, 47, 83, 33, 95, 71, 98, 34, 27, 83,  1, 16, 35, 75, 19,\n",
      "       33, 65, 41, 99, 62,  2, 51, 53, 71, 11, 41, 58, 82, 95, 20, -1, 71,\n",
      "       91,  8, 54, 82, 37, 22, 76, 64, 87, 85,  5, 18, 84, 50, 69,  6,  0,\n",
      "       15,  1, 74, 58, 55, 73,  6,  5, 79, 50, 47, 81, 49, 21, 26, 84, 60,\n",
      "       27, 35,  6, 48, 84, 60, 26, 53, 43, 19, 66, 91, 45, 50,  0, 16, 31,\n",
      "       -1, 72, 70, 25, 14, 85,  5, 79, 44, 41,  7,  7, 98, 67,  3, 18, 12,\n",
      "       62, 61,  2, 51,  0, 90, 95, 93, 56, 99, 72, 58, 65, 70, 63, 35, 35,\n",
      "       16, 67, 42, 83, 62, 41, 96,  9, 95, 95, 26, 47, 87,  3, 17, 53, 41,\n",
      "       89, 88, 56,  1, 56, 92, 23, 80, 18, 58, 48, 91, 21, 84, 27, 47, 83,\n",
      "       35, 28, 37,  3,  3, 34, 77, 96, 12, 53,  0,  9, 45, 19, 63, 18, 98,\n",
      "       38, 40, 45, 39, 71, 37, 32, 17, 44, 33, 54, 11, 12, 53, 86, 32, 26,\n",
      "       34,  6, 40, 32, 90, 54, 77, 28, 42, 15, 43, 60, 15, 78, 10, 72, 27,\n",
      "       90, 63, 44, 10, 69, 93, 46, 77, 33,  6, 54, 74, 71, 96, 36, 86, 97,\n",
      "       67, 41,  8, 34, 12, 33, 26, 26, 58, 37, 89, 62, 99, 64, 87, 25,  0,\n",
      "       36, 54, 65,  4, 10, 54, 15, 94, 54, 73, 68,  2, 33, 94, 99,  7, 80,\n",
      "       98, 70, 94, 22, 57, 64, 54, 97, 23, 89, 96, 59, 57, 58, 65, 58, 56,\n",
      "        3, 69, 79, 75, 18,  0, 73, 32, 36, 86, 37, 70, 43,  3, 98, 73, 15,\n",
      "       52, 87,  7, 50, 43, 45, 37, 37, 95, 37, 91, 24, 51,  3, 21,  0, 69,\n",
      "       49, 20, 98, 78, 15, 43, 50, 48, 59, 32, 98, 66, 45, 44, 89, 36, 67,\n",
      "        7, 48, 94, 54, 14, 54,  4,  8, 29, 47, 70, 65, 55, 40, 48, 44, 48,\n",
      "       92, 66, 82, 71,  2, 76, 52, 72, 58, 55, 57, 63, 55, 89, 72, 57, 42,\n",
      "       75, 82, 44, 75, 66, 69, 10])]\n"
     ]
    }
   ],
   "source": [
    "# Integers\n",
    "Integers = [np.random.randint(-1, 100, 500, dtype='l')]\n",
    "Float = np.random.random([2,500]).tolist()\n",
    "\n",
    "print(Integers)"
   ]
  },
  {
   "cell_type": "code",
   "execution_count": 3,
   "metadata": {
    "scrolled": true
   },
   "outputs": [
    {
     "name": "stdout",
     "output_type": "stream",
     "text": [
      "[54.9]\n"
     ]
    },
    {
     "data": {
      "image/png": "[encoded data removed]",
      "text/plain": [
       "<Figure size 720x720 with 1 Axes>"
      ]
     },
     "metadata": {
      "needs_background": "light"
     },
     "output_type": "display_data"
    }
   ],
   "source": [
    "fig,ax = plt.subplots(figsize=(10,10))\n",
    "bx.hist_boxplot(ax,Integers)"
   ]
  },
  {
   "cell_type": "markdown",
   "metadata": {},
   "source": [
    "## Robustness"
   ]
  },
  {
   "cell_type": "code",
   "execution_count": 4,
   "metadata": {},
   "outputs": [],
   "source": [
    "import pandas as pd\n",
    "data = pd.read_csv('/Users/hurryzhao/boxplot/results_merged.csv')"
   ]
  },
  {
   "cell_type": "code",
   "execution_count": 5,
   "metadata": {},
   "outputs": [
    {
     "name": "stdout",
     "output_type": "stream",
     "text": [
      "<class 'pandas.core.frame.DataFrame'>\n",
      "RangeIndex: 1000 entries, 0 to 999\n",
      "Data columns (total 62 columns):\n",
      " #   Column                          Non-Null Count  Dtype  \n",
      "---  ------                          --------------  -----  \n",
      " 0   Unnamed: 0                      1000 non-null   int64  \n",
      " 1   last_updated                    1000 non-null   object \n",
      " 2   github_link                     1000 non-null   object \n",
      " 3   user                            1000 non-null   object \n",
      " 4   project_name                    1000 non-null   object \n",
      " 5   app_id                          1000 non-null   object \n",
      " 6   category                        1000 non-null   object \n",
      " 7   stars                           1000 non-null   int64  \n",
      " 8   contributors                    1000 non-null   int64  \n",
      " 9   commits                         1000 non-null   int64  \n",
      " 10  forks                           1000 non-null   int64  \n",
      " 11  created_at                      1000 non-null   object \n",
      " 12  androidviewclient               1000 non-null   bool   \n",
      " 13  appium                          1000 non-null   bool   \n",
      " 14  calabash                        1000 non-null   bool   \n",
      " 15  espresso                        1000 non-null   bool   \n",
      " 16  monkeyrunner                    1000 non-null   bool   \n",
      " 17  pythonuiautomator               1000 non-null   bool   \n",
      " 18  robotium                        1000 non-null   bool   \n",
      " 19  uiautomator                     1000 non-null   bool   \n",
      " 20  projectquantum                  1000 non-null   bool   \n",
      " 21  qmetry                          1000 non-null   bool   \n",
      " 22  saucelabs                       1000 non-null   bool   \n",
      " 23  firebase                        1000 non-null   bool   \n",
      " 24  perfecto                        1000 non-null   bool   \n",
      " 25  bitbar                          1000 non-null   bool   \n",
      " 26  travis                          1000 non-null   bool   \n",
      " 27  circleci                        1000 non-null   bool   \n",
      " 28  codeship                        1000 non-null   bool   \n",
      " 29  codefresh                       1000 non-null   bool   \n",
      " 30  junit                           1000 non-null   bool   \n",
      " 31  androidjunitrunner              1000 non-null   bool   \n",
      " 32  roboelectric                    1000 non-null   bool   \n",
      " 33  robospock                       1000 non-null   bool   \n",
      " 34  coveralls                       9 non-null      float64\n",
      " 35  codecov                         12 non-null     float64\n",
      " 36  wercker                         997 non-null    object \n",
      " 37  app_veyor                       1000 non-null   bool   \n",
      " 38  rating_value                    638 non-null    float64\n",
      " 39  rating_count                    638 non-null    float64\n",
      " 40  downloads                       638 non-null    object \n",
      " 41  sonar_issues                    968 non-null    float64\n",
      " 42  sonar_blocker_issues            968 non-null    float64\n",
      " 43  sonar_critical_issues           968 non-null    float64\n",
      " 44  sonar_major_issues              968 non-null    float64\n",
      " 45  sonar_minor_issues              968 non-null    float64\n",
      " 46  sonar_files_processed           968 non-null    float64\n",
      " 47  tests                           1000 non-null   bool   \n",
      " 48  no_tests                        1000 non-null   bool   \n",
      " 49  unit_tests                      1000 non-null   bool   \n",
      " 50  ui_tests                        1000 non-null   bool   \n",
      " 51  cloud_tests                     1000 non-null   bool   \n",
      " 52  ci/cd                           1000 non-null   bool   \n",
      " 53  age                             1000 non-null   object \n",
      " 54  age_numeric                     1000 non-null   int64  \n",
      " 55  time_since_last_update          1000 non-null   object \n",
      " 56  time_since_last_update_numeric  1000 non-null   int64  \n",
      " 57  sonar_issues_ratio              967 non-null    float64\n",
      " 58  sonar_blocker_issues_ratio      967 non-null    float64\n",
      " 59  sonar_critical_issues_ratio     967 non-null    float64\n",
      " 60  sonar_major_issues_ratio        967 non-null    float64\n",
      " 61  sonar_minor_issues_ratio        967 non-null    float64\n",
      "dtypes: bool(29), float64(15), int64(7), object(11)\n",
      "memory usage: 286.3+ KB\n"
     ]
    }
   ],
   "source": [
    "data.info()"
   ]
  },
  {
   "cell_type": "code",
   "execution_count": 6,
   "metadata": {},
   "outputs": [],
   "source": [
    "t_d1 = data.commits[data.category=='System']\n",
    "t_d2 = data.commits[data.category=='Games']\n",
    "t_d3 = data.commits[data.category=='Reading']\n",
    "t_d4 = data.commits[data.category=='Internet']\n",
    "t_d=['t_d1','t_d2','t_d3','t_d4']"
   ]
  },
  {
   "cell_type": "code",
   "execution_count": 10,
   "metadata": {},
   "outputs": [
    {
     "name": "stdout",
     "output_type": "stream",
     "text": [
      "Wrong data type, please input a list of numerical list\n"
     ]
    },
    {
     "data": {
      "text/plain": [
       "'Wrong data type, please input a list of numerical list'"
      ]
     },
     "execution_count": 10,
     "metadata": {},
     "output_type": "execute_result"
    },
    {
     "data": {
      "image/png": "[encoded data removed]",
      "text/plain": [
       "<Figure size 720x720 with 1 Axes>"
      ]
     },
     "metadata": {
      "needs_background": "light"
     },
     "output_type": "display_data"
    }
   ],
   "source": [
    "fig,ax = plt.subplots(figsize=(10,10))\n",
    "bx.creative_boxplot(ax,t_d,outlier_facecolor='white',outlier_edgecolor='r')"
   ]
  },
  {
   "cell_type": "code",
   "execution_count": null,
   "metadata": {},
   "outputs": [],
   "source": []
  }
 ],
 "metadata": {
  "kernelspec": {
   "display_name": "Python 3",
   "language": "python",
   "name": "python3"
  },
  "language_info": {
   "codemirror_mode": {
    "name": "ipython",
    "version": 3
   },
   "file_extension": ".py",
   "mimetype": "text/x-python",
   "name": "python",
   "nbconvert_exporter": "python",
   "pygments_lexer": "ipython3",
   "version": "3.7.3"
  }
 },
 "nbformat": 4,
 "nbformat_minor": 2
}
